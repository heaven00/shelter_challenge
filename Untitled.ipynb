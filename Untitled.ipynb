{
 "cells": [
  {
   "cell_type": "code",
   "execution_count": 2,
   "metadata": {
    "collapsed": false
   },
   "outputs": [
    {
     "name": "stderr",
     "output_type": "stream",
     "text": [
      "/home/jayant/anaconda2/lib/python2.7/site-packages/pandas/computation/__init__.py:19: UserWarning: The installed version of numexpr 2.4.4 is not supported in pandas and will be not be used\n",
      "\n",
      "  UserWarning)\n"
     ]
    }
   ],
   "source": [
    "import pandas as pd\n",
    "import xgboost as xgb\n",
    "from sklearn import cross_validation\n",
    "\n",
    "%matplotlib inline"
   ]
  },
  {
   "cell_type": "code",
   "execution_count": 3,
   "metadata": {
    "collapsed": true
   },
   "outputs": [],
   "source": [
    "trainset = pd.read_csv(\"data/train.csv\")\n",
    "testset = pd.read_csv(\"data/test.csv\")"
   ]
  },
  {
   "cell_type": "code",
   "execution_count": 4,
   "metadata": {
    "collapsed": false
   },
   "outputs": [],
   "source": [
    "def time_of_day(val):\n",
    "    if val < 12:\n",
    "        return 0\n",
    "    elif val < 18:\n",
    "        return 1\n",
    "    elif val > 18:\n",
    "        return 2\n",
    "\n",
    "def process_features(df, train = True):\n",
    "    day_map = {\"year\": 365, \"years\": 365, \"months\":30, 'weeks': 7, 'month':30, 'days':1, 'week':7, 'day':1, 'nan': 0}\n",
    "    gender_bin = {\"Male\": 0, \"Female\": 1, \"Unknown\": 2 }\n",
    "    outcome_type_map = {\"Adoption\": 0, \"Transfer\": 1, \"Return_to_owner\": 2, \"Euthanasia\": 3, \"Died\": 4}\n",
    "    train_columns = \"AgeinDays Spayed MixBreed BreedHashed named Year Month Day IsAdult color_1 color_2 TimeofDay AnimalTypeBinary GenderNumeric\".split()\n",
    "    pred_column = [\"OutcomeTypeBin\"]\n",
    "    df[\"gender\"] = df.SexuponOutcome.apply(lambda x: str(x).split()[1] if len(str(x).split()) > 1 else x )\n",
    "    days_suffix_conversion = df.AgeuponOutcome.apply(lambda x: str(x).split()[1] if len(str(x).split()) > 1 else x ).apply(lambda x: day_map[str(x)])\n",
    "    days_prefix = df.AgeuponOutcome.apply(lambda x: str(x).split()[0]).replace('nan', '0').apply(lambda x: int(x))\n",
    "    df[\"AgeinDays\"] = days_prefix * days_suffix_conversion\n",
    "    df[\"Spayed\"] = df.SexuponOutcome.apply(lambda x: 1 if str(x).split()[0] in [\"Neutered\", \"Spayed\"] else 0 )\n",
    "    df[\"MixBreed\"] = df.Breed.apply(lambda x: 1 if str(x).split()[-1] == \"Mix\" else 0)\n",
    "    df[\"BreedHashed\"] = df.Breed.apply(lambda x: hash(x))\n",
    "    df[\"named\"] = df.Name.apply(lambda x: 0 if pd.isnull(x) else 1)\n",
    "    df.DateTime = pd.to_datetime(df.DateTime, infer_datetime_format=True)\n",
    "    df[\"Year\"] = df.DateTime.apply(lambda x: x.year)\n",
    "    df[\"Month\"] = df.DateTime.apply(lambda x: x.month)\n",
    "    df[\"Day\"] = df.DateTime.apply(lambda x: x.day)\n",
    "    df[\"Hour\"] = df.DateTime.apply(lambda x: x.hour)\n",
    "    df[\"IsAdult\"] = df.AgeinDays.apply(lambda x: 1 if x > 365 else 0)\n",
    "    df[\"color_1\"] = df.Color.apply(lambda x: x.split(\"/\")[0]).apply(lambda x: hash(x))\n",
    "    df[\"color_2\"] = df.Color.apply(lambda x: x.split(\"/\")[1] if len(x.split(\"/\")) > 1 else pd.np.nan).apply(lambda x: hash(x))\n",
    "    df[\"AnimalTypeBinary\"] = df.AnimalType.apply(lambda x: 0 if x == \"Dog\" else 1)\n",
    "    df[\"GenderNumeric\"] = df.gender.apply(lambda x: gender_bin[x] if not pd.isnull(x) else 3)\n",
    "    df[\"TimeofDay\"] = df.Hour.apply(lambda x: time_of_day(x))\n",
    "    if train:\n",
    "        df[\"OutcomeTypeBin\"] = df.OutcomeType.apply(lambda x: outcome_type_map[x])\n",
    "        columns = train_columns + pred_column \n",
    "    else:\n",
    "        columns = train_columns\n",
    "    return df[columns]"
   ]
  },
  {
   "cell_type": "code",
   "execution_count": 28,
   "metadata": {
    "collapsed": false
   },
   "outputs": [],
   "source": [
    "train_columns = \"AgeinDays Spayed MixBreed BreedHashed named Year Month Day IsAdult color_1 color_2 TimeofDay AnimalTypeBinary GenderNumeric\".split()\n",
    "big_X = process_features(trainset)\n",
    "X_train, X_test, y_train, y_test = cross_validation.train_test_split(big_X[train_columns].as_matrix(),\n",
    "                                                                     big_X[\"OutcomeTypeBin\"].as_matrix(),\n",
    "                                                                     test_size=0.8, random_state=0)"
   ]
  },
  {
   "cell_type": "code",
   "execution_count": 6,
   "metadata": {
    "collapsed": false
   },
   "outputs": [],
   "source": [
    "test_set = process_features(testset, False)"
   ]
  },
  {
   "cell_type": "code",
   "execution_count": 8,
   "metadata": {
    "collapsed": false
   },
   "outputs": [
    {
     "name": "stdout",
     "output_type": "stream",
     "text": [
      "0.372016460905\n"
     ]
    }
   ],
   "source": [
    "gbm = xgb.XGBClassifier(max_depth=10, n_estimators=50, learning_rate=1.0).fit(X_train, y_train)\n",
    "\n",
    "predictions = gbm.predict(X_test)\n",
    "print sum( int(predictions[i]) != y_test[i] for i in range(len(y_test))) / float(len(y_test)) "
   ]
  },
  {
   "cell_type": "code",
   "execution_count": 29,
   "metadata": {
    "collapsed": false
   },
   "outputs": [],
   "source": [
    "dtest = xgb.DMatrix(X_test, missing=pd.np.nan, label=y_test, feature_names=train_columns)\n",
    "dtrain = xgb.DMatrix(X_train, missing=pd.np.nan, label=y_train,feature_names=train_columns)\n",
    "dbigtrain = xgb.DMatrix(big_X[train_columns].as_matrix(), missing=pd.np.nan, label=big_X[\"OutcomeTypeBin\"],\n",
    "                       feature_names=train_columns)"
   ]
  },
  {
   "cell_type": "code",
   "execution_count": 30,
   "metadata": {
    "collapsed": false
   },
   "outputs": [
    {
     "name": "stderr",
     "output_type": "stream",
     "text": [
      "Will train until train error hasn't decreased in 10 rounds.\n",
      "[0]\teval-mlogloss:1.341511\ttrain-mlogloss:1.341287\n",
      "[1]\teval-mlogloss:1.194697\ttrain-mlogloss:1.193654\n",
      "[2]\teval-mlogloss:1.100399\ttrain-mlogloss:1.098090\n",
      "[3]\teval-mlogloss:1.036050\ttrain-mlogloss:1.031572\n",
      "[4]\teval-mlogloss:0.989187\ttrain-mlogloss:0.982494\n",
      "[5]\teval-mlogloss:0.954503\ttrain-mlogloss:0.946086\n",
      "[6]\teval-mlogloss:0.928709\ttrain-mlogloss:0.917949\n",
      "[7]\teval-mlogloss:0.909038\ttrain-mlogloss:0.894941\n",
      "[8]\teval-mlogloss:0.893886\ttrain-mlogloss:0.876902\n",
      "[9]\teval-mlogloss:0.882293\ttrain-mlogloss:0.861933\n",
      "[10]\teval-mlogloss:0.873741\ttrain-mlogloss:0.849933\n",
      "[11]\teval-mlogloss:0.866050\ttrain-mlogloss:0.837866\n",
      "[12]\teval-mlogloss:0.861176\ttrain-mlogloss:0.828453\n",
      "[13]\teval-mlogloss:0.856650\ttrain-mlogloss:0.820489\n",
      "[14]\teval-mlogloss:0.852448\ttrain-mlogloss:0.812439\n",
      "[15]\teval-mlogloss:0.849354\ttrain-mlogloss:0.805266\n",
      "[16]\teval-mlogloss:0.846873\ttrain-mlogloss:0.799448\n",
      "[17]\teval-mlogloss:0.845009\ttrain-mlogloss:0.793568\n",
      "[18]\teval-mlogloss:0.842990\ttrain-mlogloss:0.788916\n",
      "[19]\teval-mlogloss:0.840430\ttrain-mlogloss:0.782009\n",
      "[20]\teval-mlogloss:0.839452\ttrain-mlogloss:0.777856\n",
      "[21]\teval-mlogloss:0.838735\ttrain-mlogloss:0.773241\n",
      "[22]\teval-mlogloss:0.838095\ttrain-mlogloss:0.769025\n",
      "[23]\teval-mlogloss:0.837568\ttrain-mlogloss:0.765361\n",
      "[24]\teval-mlogloss:0.836670\ttrain-mlogloss:0.761168\n",
      "[25]\teval-mlogloss:0.835863\ttrain-mlogloss:0.756617\n",
      "[26]\teval-mlogloss:0.835756\ttrain-mlogloss:0.753533\n",
      "[27]\teval-mlogloss:0.835156\ttrain-mlogloss:0.750285\n",
      "[28]\teval-mlogloss:0.834895\ttrain-mlogloss:0.746700\n",
      "[29]\teval-mlogloss:0.834922\ttrain-mlogloss:0.742545\n",
      "[30]\teval-mlogloss:0.834793\ttrain-mlogloss:0.738934\n",
      "[31]\teval-mlogloss:0.834845\ttrain-mlogloss:0.734606\n",
      "[32]\teval-mlogloss:0.835157\ttrain-mlogloss:0.732456\n",
      "[33]\teval-mlogloss:0.835071\ttrain-mlogloss:0.728676\n",
      "[34]\teval-mlogloss:0.835173\ttrain-mlogloss:0.725938\n",
      "[35]\teval-mlogloss:0.835359\ttrain-mlogloss:0.722951\n",
      "[36]\teval-mlogloss:0.835509\ttrain-mlogloss:0.720414\n",
      "[37]\teval-mlogloss:0.835139\ttrain-mlogloss:0.716578\n",
      "[38]\teval-mlogloss:0.835427\ttrain-mlogloss:0.713278\n",
      "[39]\teval-mlogloss:0.835594\ttrain-mlogloss:0.710556\n",
      "[40]\teval-mlogloss:0.835927\ttrain-mlogloss:0.707002\n",
      "[41]\teval-mlogloss:0.836174\ttrain-mlogloss:0.704460\n",
      "[42]\teval-mlogloss:0.836160\ttrain-mlogloss:0.702551\n",
      "[43]\teval-mlogloss:0.836322\ttrain-mlogloss:0.700138\n",
      "[44]\teval-mlogloss:0.836777\ttrain-mlogloss:0.697134\n",
      "[45]\teval-mlogloss:0.837369\ttrain-mlogloss:0.694955\n",
      "[46]\teval-mlogloss:0.837749\ttrain-mlogloss:0.691800\n",
      "[47]\teval-mlogloss:0.838127\ttrain-mlogloss:0.689677\n",
      "[48]\teval-mlogloss:0.837922\ttrain-mlogloss:0.686072\n",
      "[49]\teval-mlogloss:0.838322\ttrain-mlogloss:0.682611\n"
     ]
    }
   ],
   "source": [
    "params = {'max_depth':4, 'objective':'multi:softmax', 'num_class':5, 'eval_metric':'mlogloss'}\n",
    "evallist  = [(dtest,'eval'), (dtrain,'train')]\n",
    "bst = xgb.train(params, dtrain, 50, evallist,early_stopping_rounds=10)"
   ]
  },
  {
   "cell_type": "code",
   "execution_count": 25,
   "metadata": {
    "collapsed": false
   },
   "outputs": [
    {
     "data": {
      "text/html": [
       "<div>\n",
       "<table border=\"1\" class=\"dataframe\">\n",
       "  <thead>\n",
       "    <tr style=\"text-align: right;\">\n",
       "      <th></th>\n",
       "      <th>test-mlogloss-mean</th>\n",
       "      <th>test-mlogloss-std</th>\n",
       "      <th>train-mlogloss-mean</th>\n",
       "      <th>train-mlogloss-std</th>\n",
       "    </tr>\n",
       "  </thead>\n",
       "  <tbody>\n",
       "    <tr>\n",
       "      <th>0</th>\n",
       "      <td>1.336414</td>\n",
       "      <td>0.002846</td>\n",
       "      <td>1.334928</td>\n",
       "      <td>0.001708</td>\n",
       "    </tr>\n",
       "    <tr>\n",
       "      <th>1</th>\n",
       "      <td>1.189391</td>\n",
       "      <td>0.004988</td>\n",
       "      <td>1.186657</td>\n",
       "      <td>0.002467</td>\n",
       "    </tr>\n",
       "    <tr>\n",
       "      <th>2</th>\n",
       "      <td>1.093701</td>\n",
       "      <td>0.006712</td>\n",
       "      <td>1.090132</td>\n",
       "      <td>0.002799</td>\n",
       "    </tr>\n",
       "    <tr>\n",
       "      <th>3</th>\n",
       "      <td>1.027676</td>\n",
       "      <td>0.008062</td>\n",
       "      <td>1.023272</td>\n",
       "      <td>0.003382</td>\n",
       "    </tr>\n",
       "    <tr>\n",
       "      <th>4</th>\n",
       "      <td>0.981064</td>\n",
       "      <td>0.009171</td>\n",
       "      <td>0.975787</td>\n",
       "      <td>0.003648</td>\n",
       "    </tr>\n",
       "    <tr>\n",
       "      <th>5</th>\n",
       "      <td>0.946675</td>\n",
       "      <td>0.010104</td>\n",
       "      <td>0.940714</td>\n",
       "      <td>0.003742</td>\n",
       "    </tr>\n",
       "    <tr>\n",
       "      <th>6</th>\n",
       "      <td>0.921271</td>\n",
       "      <td>0.011103</td>\n",
       "      <td>0.914439</td>\n",
       "      <td>0.003648</td>\n",
       "    </tr>\n",
       "    <tr>\n",
       "      <th>7</th>\n",
       "      <td>0.901800</td>\n",
       "      <td>0.011715</td>\n",
       "      <td>0.894223</td>\n",
       "      <td>0.003749</td>\n",
       "    </tr>\n",
       "    <tr>\n",
       "      <th>8</th>\n",
       "      <td>0.886990</td>\n",
       "      <td>0.012293</td>\n",
       "      <td>0.878615</td>\n",
       "      <td>0.003883</td>\n",
       "    </tr>\n",
       "    <tr>\n",
       "      <th>9</th>\n",
       "      <td>0.875263</td>\n",
       "      <td>0.012462</td>\n",
       "      <td>0.865580</td>\n",
       "      <td>0.004074</td>\n",
       "    </tr>\n",
       "    <tr>\n",
       "      <th>10</th>\n",
       "      <td>0.866204</td>\n",
       "      <td>0.012590</td>\n",
       "      <td>0.855366</td>\n",
       "      <td>0.004207</td>\n",
       "    </tr>\n",
       "    <tr>\n",
       "      <th>11</th>\n",
       "      <td>0.859079</td>\n",
       "      <td>0.013158</td>\n",
       "      <td>0.846945</td>\n",
       "      <td>0.004060</td>\n",
       "    </tr>\n",
       "    <tr>\n",
       "      <th>12</th>\n",
       "      <td>0.852295</td>\n",
       "      <td>0.013415</td>\n",
       "      <td>0.839230</td>\n",
       "      <td>0.004033</td>\n",
       "    </tr>\n",
       "    <tr>\n",
       "      <th>13</th>\n",
       "      <td>0.847036</td>\n",
       "      <td>0.013989</td>\n",
       "      <td>0.832976</td>\n",
       "      <td>0.003691</td>\n",
       "    </tr>\n",
       "    <tr>\n",
       "      <th>14</th>\n",
       "      <td>0.842682</td>\n",
       "      <td>0.013988</td>\n",
       "      <td>0.827287</td>\n",
       "      <td>0.003744</td>\n",
       "    </tr>\n",
       "    <tr>\n",
       "      <th>15</th>\n",
       "      <td>0.839439</td>\n",
       "      <td>0.014348</td>\n",
       "      <td>0.822596</td>\n",
       "      <td>0.003802</td>\n",
       "    </tr>\n",
       "    <tr>\n",
       "      <th>16</th>\n",
       "      <td>0.836116</td>\n",
       "      <td>0.014417</td>\n",
       "      <td>0.818286</td>\n",
       "      <td>0.003940</td>\n",
       "    </tr>\n",
       "    <tr>\n",
       "      <th>17</th>\n",
       "      <td>0.833555</td>\n",
       "      <td>0.014522</td>\n",
       "      <td>0.814551</td>\n",
       "      <td>0.003818</td>\n",
       "    </tr>\n",
       "    <tr>\n",
       "      <th>18</th>\n",
       "      <td>0.831250</td>\n",
       "      <td>0.014494</td>\n",
       "      <td>0.811262</td>\n",
       "      <td>0.003758</td>\n",
       "    </tr>\n",
       "    <tr>\n",
       "      <th>19</th>\n",
       "      <td>0.829525</td>\n",
       "      <td>0.014407</td>\n",
       "      <td>0.808294</td>\n",
       "      <td>0.003771</td>\n",
       "    </tr>\n",
       "  </tbody>\n",
       "</table>\n",
       "</div>"
      ],
      "text/plain": [
       "    test-mlogloss-mean  test-mlogloss-std  train-mlogloss-mean  \\\n",
       "0             1.336414           0.002846             1.334928   \n",
       "1             1.189391           0.004988             1.186657   \n",
       "2             1.093701           0.006712             1.090132   \n",
       "3             1.027676           0.008062             1.023272   \n",
       "4             0.981064           0.009171             0.975787   \n",
       "5             0.946675           0.010104             0.940714   \n",
       "6             0.921271           0.011103             0.914439   \n",
       "7             0.901800           0.011715             0.894223   \n",
       "8             0.886990           0.012293             0.878615   \n",
       "9             0.875263           0.012462             0.865580   \n",
       "10            0.866204           0.012590             0.855366   \n",
       "11            0.859079           0.013158             0.846945   \n",
       "12            0.852295           0.013415             0.839230   \n",
       "13            0.847036           0.013989             0.832976   \n",
       "14            0.842682           0.013988             0.827287   \n",
       "15            0.839439           0.014348             0.822596   \n",
       "16            0.836116           0.014417             0.818286   \n",
       "17            0.833555           0.014522             0.814551   \n",
       "18            0.831250           0.014494             0.811262   \n",
       "19            0.829525           0.014407             0.808294   \n",
       "\n",
       "    train-mlogloss-std  \n",
       "0             0.001708  \n",
       "1             0.002467  \n",
       "2             0.002799  \n",
       "3             0.003382  \n",
       "4             0.003648  \n",
       "5             0.003742  \n",
       "6             0.003648  \n",
       "7             0.003749  \n",
       "8             0.003883  \n",
       "9             0.004074  \n",
       "10            0.004207  \n",
       "11            0.004060  \n",
       "12            0.004033  \n",
       "13            0.003691  \n",
       "14            0.003744  \n",
       "15            0.003802  \n",
       "16            0.003940  \n",
       "17            0.003818  \n",
       "18            0.003758  \n",
       "19            0.003771  "
      ]
     },
     "execution_count": 25,
     "metadata": {},
     "output_type": "execute_result"
    }
   ],
   "source": [
    "xgb.cv(params, dbigtrain, nfold=5, num_boost_round=20)"
   ]
  },
  {
   "cell_type": "code",
   "execution_count": 31,
   "metadata": {
    "collapsed": false
   },
   "outputs": [
    {
     "name": "stdout",
     "output_type": "stream",
     "text": [
      "0.354423868313\n"
     ]
    }
   ],
   "source": [
    "predictions = bst.predict(xgb.DMatrix(X_test, missing=pd.np.nan, feature_names=train_columns))\n",
    "print sum( int(predictions[i]) != y_test[i] for i in range(len(y_test))) / float(len(y_test)) "
   ]
  },
  {
   "cell_type": "code",
   "execution_count": 21,
   "metadata": {
    "collapsed": false
   },
   "outputs": [
    {
     "data": {
      "text/plain": [
       "<matplotlib.axes._subplots.AxesSubplot at 0x7f4f49cc57d0>"
      ]
     },
     "execution_count": 21,
     "metadata": {},
     "output_type": "execute_result"
    },
    {
     "data": {
      "image/png": "[encoded data removed]",
      "text/plain": [
       "<matplotlib.figure.Figure at 0x7f4f49cc5510>"
      ]
     },
     "metadata": {},
     "output_type": "display_data"
    }
   ],
   "source": [
    "xgb.plot_importance(bst)"
   ]
  },
  {
   "cell_type": "code",
   "execution_count": 16,
   "metadata": {
    "collapsed": false
   },
   "outputs": [],
   "source": [
    "pred_df = pd.DataFrame(predictions,columns=[\"Adoption\",\n",
    "                                            \"Died\",\n",
    "                                            \"Euthanasia\",\n",
    "                                            \"Return_to_owner\", \n",
    "                                            \"Transfer\"])"
   ]
  },
  {
   "cell_type": "code",
   "execution_count": 17,
   "metadata": {
    "collapsed": false
   },
   "outputs": [],
   "source": [
    "pred_df[\"ID\"] = pred_df.index\n",
    "pred_df.ID = pred_df.ID.apply(lambda x: x+1)"
   ]
  },
  {
   "cell_type": "code",
   "execution_count": 18,
   "metadata": {
    "collapsed": false
   },
   "outputs": [],
   "source": [
    "pred_df.to_csv(\"predictions_v5.csv\",  index=False)"
   ]
  },
  {
   "cell_type": "code",
   "execution_count": null,
   "metadata": {
    "collapsed": true
   },
   "outputs": [],
   "source": []
  }
 ],
 "metadata": {
  "kernelspec": {
   "display_name": "Python 2",
   "language": "python",
   "name": "python2"
  },
  "language_info": {
   "codemirror_mode": {
    "name": "ipython",
    "version": 2
   },
   "file_extension": ".py",
   "mimetype": "text/x-python",
   "name": "python",
   "nbconvert_exporter": "python",
   "pygments_lexer": "ipython2",
   "version": "2.7.10"
  }
 },
 "nbformat": 4,
 "nbformat_minor": 0
}
