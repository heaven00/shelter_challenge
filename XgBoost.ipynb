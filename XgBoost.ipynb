{
 "cells": [
  {
   "cell_type": "code",
   "execution_count": 1,
   "metadata": {
    "collapsed": false
   },
   "outputs": [
    {
     "name": "stderr",
     "output_type": "stream",
     "text": [
      "/home/jayant/anaconda2/lib/python2.7/site-packages/pandas/computation/__init__.py:19: UserWarning: The installed version of numexpr 2.4.4 is not supported in pandas and will be not be used\n",
      "\n",
      "  UserWarning)\n"
     ]
    }
   ],
   "source": [
    "import pandas as pd\n",
    "import xgboost as xgb\n",
    "\n",
    "%matplotlib inline"
   ]
  },
  {
   "cell_type": "code",
   "execution_count": 2,
   "metadata": {
    "collapsed": true
   },
   "outputs": [],
   "source": [
    "# read data\n",
    "trainset = pd.read_csv(\"data/train.csv\")\n",
    "testset = pd.read_csv(\"data/test.csv\")"
   ]
  },
  {
   "cell_type": "code",
   "execution_count": 5,
   "metadata": {
    "collapsed": false
   },
   "outputs": [],
   "source": [
    "# combine test and train set for feature extraction\n",
    "data = trainset.append(testset)"
   ]
  },
  {
   "cell_type": "code",
   "execution_count": 77,
   "metadata": {
    "collapsed": false
   },
   "outputs": [],
   "source": [
    "# Generate features\n",
    "\n",
    "# named or not\n",
    "data[\"is_named\"] = data.Name.apply(lambda x: 0 if pd.isnull(x) else 1)\n",
    "\n",
    "# Age in days\n",
    "day_map = {\"year\": 365, \"years\": 365, \"months\":30, 'weeks': 7, 'month':30, 'days':1, 'week':7, 'day':1, 'nan': 0}\n",
    "suffix = data.AgeuponOutcome.apply(lambda x: str(x).split()[1] if len(str(x).split()) > 1 else x ).apply(lambda x: day_map[str(x)])\n",
    "prefix = data.AgeuponOutcome.apply(lambda x: str(x).split()[0]).replace('nan', '0').apply(lambda x: int(x))\n",
    "data[\"age_in_days\"] = prefix * suffix\n",
    "\n",
    "# Mix Breed\n",
    "# data[\"mix_breed\"] = data.Breed.apply(lambda x: 1 if \"Mix\" in str(x) else 0)\n",
    "# mix breed isn't really good according to f-score, domestic breed is a better metric\n",
    "\n",
    "# Domestic Breed\n",
    "data[\"domestic_breed\"] = data.Breed.apply(lambda x: 1 if \"Domestic\" in str(x) else 0)\n",
    "\n",
    "# Gender and Spayed\n",
    "data[\"gender\"] = data.SexuponOutcome.apply(lambda x: 1 if \"Male\" in str(x) else 0)\n",
    "\n",
    "# Convert Categorical text to numbers\n",
    "convert_cols = [\"AnimalType\", \"Breed\", \"Color\", \"SexuponOutcome\"]\n",
    "for col in convert_cols:\n",
    "    value_map = { key: index for index, key in enumerate(data[col].unique()) }\n",
    "    data[col + \"Encoded\"] = data[col].apply(lambda x: value_map[x])\n",
    "\n",
    "processed_cols = \"gender domestic_breed is_named \tage_in_days \tAnimalTypeEncoded \tBreedEncoded \tColorEncoded \tOutcomeType \tSexuponOutcomeEncoded\".split()\n",
    "processed_data = data[processed_cols]"
   ]
  },
  {
   "cell_type": "code",
   "execution_count": 78,
   "metadata": {
    "collapsed": false
   },
   "outputs": [],
   "source": [
    "# split the train and test set\n",
    "processed_trainset = processed_data[:len(trainset.index)]\n",
    "processed_testset = processed_data[len(trainset.index):len(trainset.index) + len(testset.index)]"
   ]
  },
  {
   "cell_type": "code",
   "execution_count": 79,
   "metadata": {
    "collapsed": false
   },
   "outputs": [
    {
     "name": "stderr",
     "output_type": "stream",
     "text": [
      "/home/jayant/anaconda2/lib/python2.7/site-packages/ipykernel/__main__.py:3: SettingWithCopyWarning: \n",
      "A value is trying to be set on a copy of a slice from a DataFrame.\n",
      "Try using .loc[row_indexer,col_indexer] = value instead\n",
      "\n",
      "See the caveats in the documentation: http://pandas.pydata.org/pandas-docs/stable/indexing.html#indexing-view-versus-copy\n",
      "  app.launch_new_instance()\n"
     ]
    }
   ],
   "source": [
    "# encode OutcomeType\n",
    "value_map = { key: index for index, key in enumerate(processed_trainset.OutcomeType.unique()) }\n",
    "processed_trainset[\"OutcomeType\"] = processed_trainset.OutcomeType.apply(lambda x: value_map[x])"
   ]
  },
  {
   "cell_type": "code",
   "execution_count": 84,
   "metadata": {
    "collapsed": false
   },
   "outputs": [],
   "source": [
    "# Separate Features and predictions for training\n",
    "train_cols = ['is_named',\n",
    " 'age_in_days',\n",
    " 'AnimalTypeEncoded',\n",
    " 'BreedEncoded',\n",
    " 'ColorEncoded',\n",
    " 'SexuponOutcomeEncoded',\n",
    " 'domestic_breed']\n",
    "pred_col = \"OutcomeType\"\n",
    "X_train, y_train = processed_trainset[train_cols], processed_trainset[pred_col]\n",
    "X_test, y_test = processed_testset[train_cols], processed_testset[pred_col]"
   ]
  },
  {
   "cell_type": "code",
   "execution_count": 85,
   "metadata": {
    "collapsed": false
   },
   "outputs": [],
   "source": [
    "# Convert to xgb matrix\n",
    "dtrain = xgb.DMatrix(X_train.as_matrix(), label=y_train.as_matrix(), feature_names=X_train.columns)\n",
    "dtest = xgb.DMatrix(X_test.as_matrix(), label=y_test.as_matrix(), feature_names=X_test.columns)"
   ]
  },
  {
   "cell_type": "code",
   "execution_count": 86,
   "metadata": {
    "collapsed": false
   },
   "outputs": [
    {
     "name": "stderr",
     "output_type": "stream",
     "text": [
      "Will train until cv error hasn't decreased in 10 rounds.\n",
      "Stopping. Best iteration: 36\n"
     ]
    },
    {
     "data": {
      "text/html": [
       "<div>\n",
       "<table border=\"1\" class=\"dataframe\">\n",
       "  <thead>\n",
       "    <tr style=\"text-align: right;\">\n",
       "      <th></th>\n",
       "      <th>test-mlogloss-mean</th>\n",
       "      <th>test-mlogloss-std</th>\n",
       "      <th>train-mlogloss-mean</th>\n",
       "      <th>train-mlogloss-std</th>\n",
       "    </tr>\n",
       "  </thead>\n",
       "  <tbody>\n",
       "    <tr>\n",
       "      <th>0</th>\n",
       "      <td>1.333953</td>\n",
       "      <td>0.005491</td>\n",
       "      <td>1.331600</td>\n",
       "      <td>0.000878</td>\n",
       "    </tr>\n",
       "    <tr>\n",
       "      <th>1</th>\n",
       "      <td>1.186644</td>\n",
       "      <td>0.008368</td>\n",
       "      <td>1.182867</td>\n",
       "      <td>0.001176</td>\n",
       "    </tr>\n",
       "    <tr>\n",
       "      <th>2</th>\n",
       "      <td>1.092376</td>\n",
       "      <td>0.010598</td>\n",
       "      <td>1.086602</td>\n",
       "      <td>0.001553</td>\n",
       "    </tr>\n",
       "    <tr>\n",
       "      <th>3</th>\n",
       "      <td>1.028172</td>\n",
       "      <td>0.012123</td>\n",
       "      <td>1.020919</td>\n",
       "      <td>0.001643</td>\n",
       "    </tr>\n",
       "    <tr>\n",
       "      <th>4</th>\n",
       "      <td>0.982660</td>\n",
       "      <td>0.013300</td>\n",
       "      <td>0.974206</td>\n",
       "      <td>0.001719</td>\n",
       "    </tr>\n",
       "    <tr>\n",
       "      <th>5</th>\n",
       "      <td>0.949977</td>\n",
       "      <td>0.014074</td>\n",
       "      <td>0.940034</td>\n",
       "      <td>0.001657</td>\n",
       "    </tr>\n",
       "    <tr>\n",
       "      <th>6</th>\n",
       "      <td>0.926004</td>\n",
       "      <td>0.014722</td>\n",
       "      <td>0.914439</td>\n",
       "      <td>0.001632</td>\n",
       "    </tr>\n",
       "    <tr>\n",
       "      <th>7</th>\n",
       "      <td>0.908147</td>\n",
       "      <td>0.015467</td>\n",
       "      <td>0.894960</td>\n",
       "      <td>0.001611</td>\n",
       "    </tr>\n",
       "    <tr>\n",
       "      <th>8</th>\n",
       "      <td>0.894489</td>\n",
       "      <td>0.016029</td>\n",
       "      <td>0.879731</td>\n",
       "      <td>0.001581</td>\n",
       "    </tr>\n",
       "    <tr>\n",
       "      <th>9</th>\n",
       "      <td>0.883846</td>\n",
       "      <td>0.016076</td>\n",
       "      <td>0.867671</td>\n",
       "      <td>0.001706</td>\n",
       "    </tr>\n",
       "    <tr>\n",
       "      <th>10</th>\n",
       "      <td>0.875550</td>\n",
       "      <td>0.016452</td>\n",
       "      <td>0.857850</td>\n",
       "      <td>0.001728</td>\n",
       "    </tr>\n",
       "    <tr>\n",
       "      <th>11</th>\n",
       "      <td>0.869000</td>\n",
       "      <td>0.016766</td>\n",
       "      <td>0.849969</td>\n",
       "      <td>0.001735</td>\n",
       "    </tr>\n",
       "    <tr>\n",
       "      <th>12</th>\n",
       "      <td>0.864009</td>\n",
       "      <td>0.017003</td>\n",
       "      <td>0.843313</td>\n",
       "      <td>0.001813</td>\n",
       "    </tr>\n",
       "    <tr>\n",
       "      <th>13</th>\n",
       "      <td>0.860091</td>\n",
       "      <td>0.017243</td>\n",
       "      <td>0.838036</td>\n",
       "      <td>0.001967</td>\n",
       "    </tr>\n",
       "    <tr>\n",
       "      <th>14</th>\n",
       "      <td>0.856750</td>\n",
       "      <td>0.017257</td>\n",
       "      <td>0.833122</td>\n",
       "      <td>0.002006</td>\n",
       "    </tr>\n",
       "    <tr>\n",
       "      <th>15</th>\n",
       "      <td>0.854248</td>\n",
       "      <td>0.017311</td>\n",
       "      <td>0.829321</td>\n",
       "      <td>0.001969</td>\n",
       "    </tr>\n",
       "    <tr>\n",
       "      <th>16</th>\n",
       "      <td>0.852452</td>\n",
       "      <td>0.017302</td>\n",
       "      <td>0.826216</td>\n",
       "      <td>0.001966</td>\n",
       "    </tr>\n",
       "    <tr>\n",
       "      <th>17</th>\n",
       "      <td>0.850955</td>\n",
       "      <td>0.017299</td>\n",
       "      <td>0.823489</td>\n",
       "      <td>0.001951</td>\n",
       "    </tr>\n",
       "    <tr>\n",
       "      <th>18</th>\n",
       "      <td>0.849640</td>\n",
       "      <td>0.017304</td>\n",
       "      <td>0.820913</td>\n",
       "      <td>0.002010</td>\n",
       "    </tr>\n",
       "    <tr>\n",
       "      <th>19</th>\n",
       "      <td>0.848225</td>\n",
       "      <td>0.017415</td>\n",
       "      <td>0.818363</td>\n",
       "      <td>0.001830</td>\n",
       "    </tr>\n",
       "    <tr>\n",
       "      <th>20</th>\n",
       "      <td>0.847159</td>\n",
       "      <td>0.017443</td>\n",
       "      <td>0.816097</td>\n",
       "      <td>0.001897</td>\n",
       "    </tr>\n",
       "    <tr>\n",
       "      <th>21</th>\n",
       "      <td>0.846270</td>\n",
       "      <td>0.017682</td>\n",
       "      <td>0.813985</td>\n",
       "      <td>0.001801</td>\n",
       "    </tr>\n",
       "    <tr>\n",
       "      <th>22</th>\n",
       "      <td>0.845561</td>\n",
       "      <td>0.017664</td>\n",
       "      <td>0.812104</td>\n",
       "      <td>0.001833</td>\n",
       "    </tr>\n",
       "    <tr>\n",
       "      <th>23</th>\n",
       "      <td>0.845154</td>\n",
       "      <td>0.017646</td>\n",
       "      <td>0.810356</td>\n",
       "      <td>0.001841</td>\n",
       "    </tr>\n",
       "    <tr>\n",
       "      <th>24</th>\n",
       "      <td>0.844590</td>\n",
       "      <td>0.017744</td>\n",
       "      <td>0.808499</td>\n",
       "      <td>0.001786</td>\n",
       "    </tr>\n",
       "    <tr>\n",
       "      <th>25</th>\n",
       "      <td>0.844401</td>\n",
       "      <td>0.017775</td>\n",
       "      <td>0.806859</td>\n",
       "      <td>0.001781</td>\n",
       "    </tr>\n",
       "    <tr>\n",
       "      <th>26</th>\n",
       "      <td>0.844229</td>\n",
       "      <td>0.017724</td>\n",
       "      <td>0.805364</td>\n",
       "      <td>0.001831</td>\n",
       "    </tr>\n",
       "    <tr>\n",
       "      <th>27</th>\n",
       "      <td>0.843947</td>\n",
       "      <td>0.017873</td>\n",
       "      <td>0.803969</td>\n",
       "      <td>0.001820</td>\n",
       "    </tr>\n",
       "    <tr>\n",
       "      <th>28</th>\n",
       "      <td>0.843715</td>\n",
       "      <td>0.017782</td>\n",
       "      <td>0.802622</td>\n",
       "      <td>0.001941</td>\n",
       "    </tr>\n",
       "    <tr>\n",
       "      <th>29</th>\n",
       "      <td>0.843610</td>\n",
       "      <td>0.017782</td>\n",
       "      <td>0.801467</td>\n",
       "      <td>0.001984</td>\n",
       "    </tr>\n",
       "    <tr>\n",
       "      <th>30</th>\n",
       "      <td>0.843511</td>\n",
       "      <td>0.017837</td>\n",
       "      <td>0.800136</td>\n",
       "      <td>0.002058</td>\n",
       "    </tr>\n",
       "    <tr>\n",
       "      <th>31</th>\n",
       "      <td>0.843441</td>\n",
       "      <td>0.017912</td>\n",
       "      <td>0.798948</td>\n",
       "      <td>0.002080</td>\n",
       "    </tr>\n",
       "    <tr>\n",
       "      <th>32</th>\n",
       "      <td>0.843366</td>\n",
       "      <td>0.017819</td>\n",
       "      <td>0.797578</td>\n",
       "      <td>0.001880</td>\n",
       "    </tr>\n",
       "    <tr>\n",
       "      <th>33</th>\n",
       "      <td>0.843232</td>\n",
       "      <td>0.017937</td>\n",
       "      <td>0.796332</td>\n",
       "      <td>0.001909</td>\n",
       "    </tr>\n",
       "    <tr>\n",
       "      <th>34</th>\n",
       "      <td>0.843201</td>\n",
       "      <td>0.017922</td>\n",
       "      <td>0.795006</td>\n",
       "      <td>0.002006</td>\n",
       "    </tr>\n",
       "    <tr>\n",
       "      <th>35</th>\n",
       "      <td>0.843151</td>\n",
       "      <td>0.017858</td>\n",
       "      <td>0.793721</td>\n",
       "      <td>0.002025</td>\n",
       "    </tr>\n",
       "    <tr>\n",
       "      <th>36</th>\n",
       "      <td>0.843142</td>\n",
       "      <td>0.017728</td>\n",
       "      <td>0.792304</td>\n",
       "      <td>0.002008</td>\n",
       "    </tr>\n",
       "  </tbody>\n",
       "</table>\n",
       "</div>"
      ],
      "text/plain": [
       "    test-mlogloss-mean  test-mlogloss-std  train-mlogloss-mean  \\\n",
       "0             1.333953           0.005491             1.331600   \n",
       "1             1.186644           0.008368             1.182867   \n",
       "2             1.092376           0.010598             1.086602   \n",
       "3             1.028172           0.012123             1.020919   \n",
       "4             0.982660           0.013300             0.974206   \n",
       "5             0.949977           0.014074             0.940034   \n",
       "6             0.926004           0.014722             0.914439   \n",
       "7             0.908147           0.015467             0.894960   \n",
       "8             0.894489           0.016029             0.879731   \n",
       "9             0.883846           0.016076             0.867671   \n",
       "10            0.875550           0.016452             0.857850   \n",
       "11            0.869000           0.016766             0.849969   \n",
       "12            0.864009           0.017003             0.843313   \n",
       "13            0.860091           0.017243             0.838036   \n",
       "14            0.856750           0.017257             0.833122   \n",
       "15            0.854248           0.017311             0.829321   \n",
       "16            0.852452           0.017302             0.826216   \n",
       "17            0.850955           0.017299             0.823489   \n",
       "18            0.849640           0.017304             0.820913   \n",
       "19            0.848225           0.017415             0.818363   \n",
       "20            0.847159           0.017443             0.816097   \n",
       "21            0.846270           0.017682             0.813985   \n",
       "22            0.845561           0.017664             0.812104   \n",
       "23            0.845154           0.017646             0.810356   \n",
       "24            0.844590           0.017744             0.808499   \n",
       "25            0.844401           0.017775             0.806859   \n",
       "26            0.844229           0.017724             0.805364   \n",
       "27            0.843947           0.017873             0.803969   \n",
       "28            0.843715           0.017782             0.802622   \n",
       "29            0.843610           0.017782             0.801467   \n",
       "30            0.843511           0.017837             0.800136   \n",
       "31            0.843441           0.017912             0.798948   \n",
       "32            0.843366           0.017819             0.797578   \n",
       "33            0.843232           0.017937             0.796332   \n",
       "34            0.843201           0.017922             0.795006   \n",
       "35            0.843151           0.017858             0.793721   \n",
       "36            0.843142           0.017728             0.792304   \n",
       "\n",
       "    train-mlogloss-std  \n",
       "0             0.000878  \n",
       "1             0.001176  \n",
       "2             0.001553  \n",
       "3             0.001643  \n",
       "4             0.001719  \n",
       "5             0.001657  \n",
       "6             0.001632  \n",
       "7             0.001611  \n",
       "8             0.001581  \n",
       "9             0.001706  \n",
       "10            0.001728  \n",
       "11            0.001735  \n",
       "12            0.001813  \n",
       "13            0.001967  \n",
       "14            0.002006  \n",
       "15            0.001969  \n",
       "16            0.001966  \n",
       "17            0.001951  \n",
       "18            0.002010  \n",
       "19            0.001830  \n",
       "20            0.001897  \n",
       "21            0.001801  \n",
       "22            0.001833  \n",
       "23            0.001841  \n",
       "24            0.001786  \n",
       "25            0.001781  \n",
       "26            0.001831  \n",
       "27            0.001820  \n",
       "28            0.001941  \n",
       "29            0.001984  \n",
       "30            0.002058  \n",
       "31            0.002080  \n",
       "32            0.001880  \n",
       "33            0.001909  \n",
       "34            0.002006  \n",
       "35            0.002025  \n",
       "36            0.002008  "
      ]
     },
     "execution_count": 86,
     "metadata": {},
     "output_type": "execute_result"
    }
   ],
   "source": [
    "# cv runs\n",
    "params = {'max_depth':5, 'objective':'multi:softprob', 'num_class':5, 'eval_metric':'mlogloss'}\n",
    "xgb.cv(params, dtrain, as_pandas=True, early_stopping_rounds=10, nfold=10, num_boost_round=50)"
   ]
  },
  {
   "cell_type": "code",
   "execution_count": 87,
   "metadata": {
    "collapsed": true
   },
   "outputs": [],
   "source": [
    "bst = xgb.train(params, dtrain)"
   ]
  },
  {
   "cell_type": "code",
   "execution_count": 88,
   "metadata": {
    "collapsed": false
   },
   "outputs": [
    {
     "data": {
      "text/plain": [
       "<matplotlib.axes._subplots.AxesSubplot at 0x7efc54548fd0>"
      ]
     },
     "execution_count": 88,
     "metadata": {},
     "output_type": "execute_result"
    },
    {
     "data": {
      "image/png": "[encoded data removed]",
      "text/plain": [
       "<matplotlib.figure.Figure at 0x7efc54548190>"
      ]
     },
     "metadata": {},
     "output_type": "display_data"
    }
   ],
   "source": [
    "xgb.plot_importance(bst)"
   ]
  },
  {
   "cell_type": "code",
   "execution_count": 89,
   "metadata": {
    "collapsed": false
   },
   "outputs": [
    {
     "data": {
      "text/html": [
       "<div>\n",
       "<table border=\"1\" class=\"dataframe\">\n",
       "  <thead>\n",
       "    <tr style=\"text-align: right;\">\n",
       "      <th></th>\n",
       "      <th>Return_to_owner</th>\n",
       "      <th>Euthanasia</th>\n",
       "      <th>Adoption</th>\n",
       "      <th>Transfer</th>\n",
       "      <th>Died</th>\n",
       "      <th>ID</th>\n",
       "    </tr>\n",
       "  </thead>\n",
       "  <tbody>\n",
       "    <tr>\n",
       "      <th>0</th>\n",
       "      <td>0.298253</td>\n",
       "      <td>0.061809</td>\n",
       "      <td>0.058389</td>\n",
       "      <td>0.546489</td>\n",
       "      <td>0.035060</td>\n",
       "      <td>1</td>\n",
       "    </tr>\n",
       "    <tr>\n",
       "      <th>1</th>\n",
       "      <td>0.297257</td>\n",
       "      <td>0.048004</td>\n",
       "      <td>0.461786</td>\n",
       "      <td>0.158249</td>\n",
       "      <td>0.034703</td>\n",
       "      <td>2</td>\n",
       "    </tr>\n",
       "    <tr>\n",
       "      <th>2</th>\n",
       "      <td>0.123467</td>\n",
       "      <td>0.054830</td>\n",
       "      <td>0.412388</td>\n",
       "      <td>0.373325</td>\n",
       "      <td>0.035990</td>\n",
       "      <td>3</td>\n",
       "    </tr>\n",
       "    <tr>\n",
       "      <th>3</th>\n",
       "      <td>0.147034</td>\n",
       "      <td>0.052989</td>\n",
       "      <td>0.136057</td>\n",
       "      <td>0.628292</td>\n",
       "      <td>0.035628</td>\n",
       "      <td>4</td>\n",
       "    </tr>\n",
       "    <tr>\n",
       "      <th>4</th>\n",
       "      <td>0.304567</td>\n",
       "      <td>0.052019</td>\n",
       "      <td>0.427390</td>\n",
       "      <td>0.178419</td>\n",
       "      <td>0.037605</td>\n",
       "      <td>5</td>\n",
       "    </tr>\n",
       "  </tbody>\n",
       "</table>\n",
       "</div>"
      ],
      "text/plain": [
       "   Return_to_owner  Euthanasia  Adoption  Transfer      Died  ID\n",
       "0         0.298253    0.061809  0.058389  0.546489  0.035060   1\n",
       "1         0.297257    0.048004  0.461786  0.158249  0.034703   2\n",
       "2         0.123467    0.054830  0.412388  0.373325  0.035990   3\n",
       "3         0.147034    0.052989  0.136057  0.628292  0.035628   4\n",
       "4         0.304567    0.052019  0.427390  0.178419  0.037605   5"
      ]
     },
     "execution_count": 89,
     "metadata": {},
     "output_type": "execute_result"
    }
   ],
   "source": [
    "# predict and convert to df\n",
    "predictions = bst.predict(dtest)\n",
    "predictions_df = pd.DataFrame(predictions,columns=sorted(value_map, key=lambda k: value_map[k]))\n",
    "predictions_df[\"ID\"] = predictions_df.index\n",
    "predictions_df.ID = predictions_df.ID.apply(lambda x: x+1)\n",
    "predictions_df.head()"
   ]
  },
  {
   "cell_type": "code",
   "execution_count": 90,
   "metadata": {
    "collapsed": false
   },
   "outputs": [],
   "source": [
    "predictions_df.to_csv(\"predictions_v4.csv\",  index=False)"
   ]
  },
  {
   "cell_type": "code",
   "execution_count": null,
   "metadata": {
    "collapsed": true
   },
   "outputs": [],
   "source": []
  }
 ],
 "metadata": {
  "kernelspec": {
   "display_name": "Python 3",
   "language": "python",
   "name": "python3"
  },
  "language_info": {
   "codemirror_mode": {
    "name": "ipython",
    "version": 3
   },
   "file_extension": ".py",
   "mimetype": "text/x-python",
   "name": "python",
   "nbconvert_exporter": "python",
   "pygments_lexer": "ipython3",
   "version": "3.5.1"
  }
 },
 "nbformat": 4,
 "nbformat_minor": 0
}
